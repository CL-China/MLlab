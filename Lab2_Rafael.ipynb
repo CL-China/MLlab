{
 "cells": [
  {
   "cell_type": "markdown",
   "metadata": {},
   "source": [
    "# Lab 2: Classification\n",
    "\n",
    "### Machine Learning 1, September 2016\n",
    "\n",
    "* The lab exercises should be made in groups of two people.\n",
    "* The deadline is October 9th (Sunday) 23:59.\n",
    "* Assignment should be sent to your teaching assistant. The subject line of your email should be \"lab\\#\\_lastname1\\_lastname2\\_lastname3\".\n",
    "* Put your and your teammates' names in the body of the email.\n",
    "* Attach the .IPYNB (IPython Notebook) file containing your code and answers. Naming of the file follows the same rule as the subject line. For example, if the subject line is \"lab01\\_Kingma\\_Hu\", the attached file should be \"lab01\\_Kingma\\_Hu.ipynb\". Only use underscores (\"\\_\") to connect names, otherwise the files cannot be parsed.\n",
    "\n",
    "Notes on implementation:\n",
    "\n",
    "* For this notebook you need to answer a few theory questions, add them in the Markdown cell's below the question. Note: you can use Latex-style code in here.\n",
    "* Focus on Part 1 the first week, and Part 2 the second week!\n",
    "* You should write your code and answers below the questions in this IPython Notebook.\n",
    "* Among the first lines of your notebook should be \"%pylab inline\". This imports all required modules, and your plots will appear inline.\n",
    "* If you have questions outside of the labs, post them on blackboard or email me.\n",
    "* NOTE: Make sure we can run your notebook / scripts!\n",
    "\n",
    "$\\newcommand{\\bx}{\\mathbf{x}}$\n",
    "$\\newcommand{\\bw}{\\mathbf{w}}$\n",
    "$\\newcommand{\\bt}{\\mathbf{t}}$\n",
    "$\\newcommand{\\by}{\\mathbf{y}}$\n",
    "$\\newcommand{\\bm}{\\mathbf{m}}$\n",
    "$\\newcommand{\\bb}{\\mathbf{b}}$\n",
    "$\\newcommand{\\bS}{\\mathbf{S}}$\n",
    "$\\newcommand{\\ba}{\\mathbf{a}}$\n",
    "$\\newcommand{\\bz}{\\mathbf{z}}$\n",
    "$\\newcommand{\\bv}{\\mathbf{v}}$\n",
    "$\\newcommand{\\bq}{\\mathbf{q}}$\n",
    "$\\newcommand{\\bp}{\\mathbf{p}}$\n",
    "$\\newcommand{\\bh}{\\mathbf{h}}$\n",
    "$\\newcommand{\\bI}{\\mathbf{I}}$\n",
    "$\\newcommand{\\bX}{\\mathbf{X}}$\n",
    "$\\newcommand{\\bT}{\\mathbf{T}}$\n",
    "$\\newcommand{\\bPhi}{\\mathbf{\\Phi}}$\n",
    "$\\newcommand{\\bW}{\\mathbf{W}}$\n",
    "$\\newcommand{\\bV}{\\mathbf{V}}$"
   ]
  },
  {
   "cell_type": "code",
   "execution_count": 1,
   "metadata": {
    "collapsed": false
   },
   "outputs": [
    {
     "name": "stderr",
     "output_type": "stream",
     "text": [
      "/Users/lichang/anaconda/envs/py27/lib/python2.7/site-packages/matplotlib/font_manager.py:273: UserWarning: Matplotlib is building the font cache using fc-list. This may take a moment.\n",
      "  warnings.warn('Matplotlib is building the font cache using fc-list. This may take a moment.')\n"
     ]
    },
    {
     "name": "stdout",
     "output_type": "stream",
     "text": [
      "Populating the interactive namespace from numpy and matplotlib\n"
     ]
    }
   ],
   "source": [
    "%pylab inline\n",
    "import gzip, cPickle"
   ]
  },
  {
   "cell_type": "markdown",
   "metadata": {},
   "source": [
    "# Part 1. Multiclass logistic regression\n",
    "\n",
    "Scenario: you have a friend with one big problem: she's completely blind. You decided to help her: she has a special smartphone for blind people, and you are going to develop a mobile phone app that can do _machine vision_ using the mobile camera: converting a picture (from the camera) to the meaning of the image. You decide to start with an app that can read handwritten digits, i.e. convert an image of handwritten digits to text (e.g. it would enable her to read precious handwritten phone numbers).\n",
    "\n",
    "A key building block for such an app would be a function `predict_digit(x)` that returns the digit class of an image patch $\\bx$. Since hand-coding this function is highly non-trivial, you decide to solve this problem using machine learning, such that the internal parameters of this function are automatically learned using machine learning techniques.\n",
    "\n",
    "The dataset you're going to use for this is the MNIST handwritten digits dataset (`http://yann.lecun.com/exdb/mnist/`). You can load the data from `mnist.pkl.gz` we provided, using: "
   ]
  },
  {
   "cell_type": "code",
   "execution_count": 2,
   "metadata": {
    "collapsed": false
   },
   "outputs": [],
   "source": [
    "def load_mnist():\n",
    "    f = gzip.open('mnist.pkl.gz', 'rb')\n",
    "    data = cPickle.load(f)\n",
    "    f.close()\n",
    "    return data\n",
    "\n",
    "(x_train, t_train), (x_valid, t_valid), (x_test, t_test) = load_mnist()"
   ]
  },
  {
   "cell_type": "markdown",
   "metadata": {},
   "source": [
    "The tuples represent train, validation and test sets. The first element (`x_train`, `x_valid`, `x_test`) of each tuple is a $N \\times M$ matrix, where $N$ is the number of datapoints and $M = 28^2 = 784$ is the dimensionality of the data. The second element (`t_train`, `t_valid`, `t_test`) of each tuple is the corresponding $N$-dimensional vector of integers, containing the true class labels.\n",
    "\n",
    "Here's a visualisation of the first 8 digits of the trainingset:"
   ]
  },
  {
   "cell_type": "code",
   "execution_count": 3,
   "metadata": {
    "collapsed": false
   },
   "outputs": [
    {
     "data": {
      "image/png": "[encoded data removed]",
      "text/plain": [
       "<matplotlib.figure.Figure at 0x10a86c7d0>"
      ]
     },
     "metadata": {},
     "output_type": "display_data"
    }
   ],
   "source": [
    "def plot_digits(data, numcols, shape=(28,28)):\n",
    "    numdigits = data.shape[0]\n",
    "    numrows = int(numdigits/numcols)\n",
    "    for i in range(numdigits):\n",
    "        plt.subplot(numrows, numcols, i+1)\n",
    "        plt.axis('off')\n",
    "        plt.imshow(data[i].reshape(shape), interpolation='nearest', cmap='Greys')\n",
    "    plt.show()\n",
    "    \n",
    "plot_digits(x_train[0:12], numcols=4)\n"
   ]
  },
  {
   "cell_type": "markdown",
   "metadata": {},
   "source": [
    "In _multiclass_ logistic regression, the conditional probability of class label $j$ given the image $\\bx$ for some datapoint is given by:\n",
    "\n",
    "$ \\log p(t = j \\;|\\; \\bx, \\bb, \\bW) = \\log q_j - \\log Z$\n",
    "\n",
    "where $\\log q_j = \\bw_j^T \\bx + b_j$ (the log of the unnormalized probability of the class $j$), and $Z = \\sum_k q_k$ is the normalizing factor. $\\bw_j$ is the $j$-th column of $\\bW$ (a matrix of size $784 \\times 10$) corresponding to the class label, $b_j$ is the $j$-th element of $\\bb$.\n",
    "\n",
    "Given an input image, the multiclass logistic regression model first computes the intermediate vector $\\log \\bq$ (of size $10 \\times 1$), using $\\log q_j = \\bw_j^T \\bx + b_j$, containing the unnormalized log-probabilities per class. \n",
    "\n",
    "The unnormalized probabilities are then normalized by $Z$ such that $\\sum_j p_j = \\sum_j \\exp(\\log p_j) = 1$. This is done by $\\log p_j = \\log q_j - \\log Z$ where $Z = \\sum_j \\exp(\\log q_j)$. This is known as the _softmax_ transformation, and is also used as a last layer of many classifcation neural network models, to ensure that the output of the network is a normalized distribution, regardless of the values of second-to-last layer ($\\log \\bq$)\n",
    "\n",
    "Warning: when computing $\\log Z$, you are likely to encounter numerical problems. Save yourself countless hours of debugging and learn the [log-sum-exp trick](https://hips.seas.harvard.edu/blog/2013/01/09/computing-log-sum-exp/ \"Title\").\n",
    "\n",
    "The network's output $\\log \\bp$ of size $10 \\times 1$ then contains the conditional log-probabilities $\\log p(t = j \\;|\\; \\bx, \\bb, \\bW)$ for each digit class $j$. In summary, the computations are done in this order:\n",
    "\n",
    "$\\bx \\rightarrow \\log \\bq \\rightarrow Z \\rightarrow \\log \\bp$\n",
    "\n",
    "Given some dataset with $N$ independent, identically distributed datapoints, the log-likelihood is given by:\n",
    "\n",
    "$ \\mathcal{L}(\\bb, \\bW) = \\sum_{n=1}^N \\mathcal{L}^{(n)}$\n",
    "\n",
    "where we use $\\mathcal{L}^{(n)}$ to denote the partial log-likelihood evaluated over a single datapoint. It is important to see that the log-probability of the class label $t^{(n)}$ given the image, is given by the $t^{(n)}$-th element of the network's output $\\log \\bp$, denoted by $\\log p_{t^{(n)}}$:\n",
    "\n",
    "$\\mathcal{L}^{(n)} = \\log p(t = t^{(n)} \\;|\\; \\bx = \\bx^{(n)}, \\bb, \\bW) = \\log p_{t^{(n)}} = \\log q_{t^{(n)}} - \\log Z^{(n)}$\n",
    "\n",
    "where $\\bx^{(n)}$ and $t^{(n)}$ are the input (image) and class label (integer) of the $n$-th datapoint, and $Z^{(n)}$ is the normalizing constant for the distribution over $t^{(n)}$.\n"
   ]
  },
  {
   "cell_type": "markdown",
   "metadata": {},
   "source": [
    "## 1.1 Gradient-based stochastic optimization\n",
    "\n",
    "### 1.1.1 Derive gradient equations (20 points)\n",
    "\n",
    "Derive the equations for computing the (first) partial derivatives of the log-likelihood w.r.t. all the parameters, evaluated at a _single_ datapoint $n$.\n",
    "\n",
    "You should start deriving the equations for $\\frac{\\partial \\mathcal{L}^{(n)}}{\\partial \\log q_j}$ for each $j$. For clarity, we'll use the shorthand $\\delta^q_j = \\frac{\\partial \\mathcal{L}^{(n)}}{\\partial \\log q_j}$.\n",
    "\n",
    "For $j = t^{(n)}$:\n",
    "$\n",
    "\\delta^q_j\n",
    "= \\frac{\\partial \\mathcal{L}^{(n)}}{\\partial \\log p_j}\n",
    "\\frac{\\partial \\log p_j}{\\partial \\log q_j}\n",
    "+ \\frac{\\partial \\mathcal{L}^{(n)}}{\\partial \\log Z}\n",
    "\\frac{\\partial \\log Z}{\\partial Z} \n",
    "\\frac{\\partial Z}{\\partial \\log q_j} \n",
    "= 1 \\cdot 1 - \\frac{\\partial \\log Z}{\\partial Z} \n",
    "\\frac{\\partial Z}{\\partial \\log q_j}\n",
    "= 1 - \\frac{\\partial \\log Z}{\\partial Z} \n",
    "\\frac{\\partial Z}{\\partial \\log q_j}\n",
    "$\n",
    "\n",
    "For $j \\neq t^{(n)}$:\n",
    "$\n",
    "\\delta^q_j\n",
    "= \\frac{\\partial \\mathcal{L}^{(n)}}{\\partial \\log Z}\n",
    "\\frac{\\partial \\log Z}{\\partial Z} \n",
    "\\frac{\\partial Z}{\\partial \\log q_j} \n",
    "= - \\frac{\\partial \\log Z}{\\partial Z} \n",
    "\\frac{\\partial Z}{\\partial \\log q_j}\n",
    "$\n",
    "\n",
    "Complete the above derivations for $\\delta^q_j$ by furtherly developing $\\frac{\\partial \\log Z}{\\partial Z}$ and $\\frac{\\partial Z}{\\partial \\log q_j}$. Both are quite simple. For these it doesn't matter whether $j = t^{(n)}$ or not.\n",
    "\n",
    "Given your equations for computing the gradients $\\delta^q_j$ it should be quite straightforward to derive the equations for the gradients of the parameters of the model, $\\frac{\\partial \\mathcal{L}^{(n)}}{\\partial W_{ij}}$ and $\\frac{\\partial \\mathcal{L}^{(n)}}{\\partial b_j}$. The gradients for the biases $\\bb$ are given by:\n",
    "\n",
    "$\n",
    "\\frac{\\partial \\mathcal{L}^{(n)}}{\\partial b_j}\n",
    "= \\frac{\\partial \\mathcal{L}^{(n)}}{\\partial \\log q_j}\n",
    "\\frac{\\partial \\log q_j}{\\partial b_j}\n",
    "= \\delta^q_j\n",
    "\\cdot 1\n",
    "= \\delta^q_j\n",
    "$\n",
    "\n",
    "The equation above gives the derivative of $\\mathcal{L}^{(n)}$ w.r.t. a single element of $\\bb$, so the vector $\\nabla_\\bb \\mathcal{L}^{(n)}$ with all derivatives of $\\mathcal{L}^{(n)}$ w.r.t. the bias parameters $\\bb$ is: \n",
    "\n",
    "$\n",
    "\\nabla_\\bb \\mathcal{L}^{(n)} = \\mathbf{\\delta}^q\n",
    "$\n",
    "\n",
    "where $\\mathbf{\\delta}^q$ denotes the vector of size $10 \\times 1$ with elements $\\mathbf{\\delta}_j^q$.\n",
    "\n",
    "The (not fully developed) equation for computing the derivative of $\\mathcal{L}^{(n)}$ w.r.t. a single element $W_{ij}$ of $\\bW$ is:\n",
    "\n",
    "$\n",
    "\\frac{\\partial \\mathcal{L}^{(n)}}{\\partial W_{ij}} =\n",
    "\\frac{\\partial \\mathcal{L}^{(n)}}{\\partial \\log q_j}\n",
    "\\frac{\\partial \\log q_j}{\\partial W_{ij}}\n",
    "= \\mathbf{\\delta}_j^q\n",
    "\\frac{\\partial \\log q_j}{\\partial W_{ij}}\n",
    "$\n",
    "\n",
    "What is $\\frac{\\partial \\log q_j}{\\partial W_{ij}}$? Complete the equation above.\n",
    "\n",
    "If you want, you can give the resulting equation in vector format ($\\nabla_{\\bw_j} \\mathcal{L}^{(n)} = ...$), like we did for $\\nabla_\\bb \\mathcal{L}^{(n)}$.\n",
    "\n",
    "#####Answer: "
   ]
  },
  {
   "cell_type": "markdown",
   "metadata": {},
   "source": [
    "$\\frac{\\partial \\log (Z)}{\\partial Z} = \\frac{1}{Z}$\n",
    "\n",
    "$\\frac{\\partial Z}{\\partial \\log (q_j)} = \\frac{\\partial \\sum_i \\exp(\\log(q_i))}{\\partial \\log(q_j)} = \\exp(\\log(q_j)) = q_j$ \n",
    "\n",
    "$\\Rightarrow \\delta^q_j = [j = t^{(n)}](1- \\frac{\\partial \\log (Z)}{\\partial Z}\\frac{\\partial Z}{\\partial \\log (q_j)}) - [j \\neq t^{(n)}]\\frac{\\partial \\log (Z)}{\\partial Z}\\frac{\\partial Z}{\\partial \\log (q_j)} = [j = t^{(n)}](1- \\frac{1}{Z}q_j) - [j \\neq t^{(n)}]\\frac{1}{Z}q_j = [j = t^{(n)}](1- \\frac{q_j}{Z}) - [j \\neq t^{(n)}]\\frac{q_j}{Z}$\n",
    "\n",
    "$\\frac{\\partial \\log q_j}{\\partial W_{ij}} = \\frac{\\partial \\sum_{i=1}^M W_{ij}x_{i}+b_j}{\\partial W_{ij}} = x_i$\n",
    "\n",
    "$\\Rightarrow \\frac{\\partial \\mathcal{L}^{(n)}}{\\partial \\bW_{ij}} = \\delta^q_j\\frac{\\partial \\log q_j}{\\partial W_{ij}} = x_i ( [j = t^{(n)}](1- \\frac{q_j}{Z}) - [j \\neq t^{(n)}]\\frac{q_j}{Z})$\n",
    "and \n",
    "$\\nabla_{\\bw_j} \\mathcal{L}^{(n)} = \\bx ( [j = t^{(n)}](1- \\frac{q_j}{Z}) - [j \\neq t^{(n)}]\\frac{q_j}{Z})$"
   ]
  },
  {
   "cell_type": "markdown",
   "metadata": {},
   "source": [
    "### 1.1.2 Implement gradient computations (10 points)\n",
    "\n",
    "Implement the gradient calculations you derived in the previous question. Write a function `logreg_gradient(x, t, w, b)` that returns the gradients $\\nabla_{\\bw_j} \\mathcal{L}^{(n)}$ (for each $j$) and $\\nabla_{\\bb} \\mathcal{L}^{(n)}$, i.e. the first partial derivatives of the log-likelihood w.r.t. the parameters $\\bW$ and $\\bb$, evaluated at a single datapoint (`x`, `t`).\n",
    "The computation will contain roughly the following intermediate variables:\n",
    "\n",
    "$\n",
    "\\log \\bq \\rightarrow Z \\rightarrow \\log \\bp\\,,\\, \\mathbf{\\delta}^q\n",
    "$\n",
    "\n",
    "followed by computation of the gradient vectors $\\nabla_{\\bw_j} \\mathcal{L}^{(n)}$ (contained in a $784 \\times 10$ matrix) and $\\nabla_{\\bb} \\mathcal{L}^{(n)}$ (a $10 \\times 1$ vector).\n"
   ]
  },
  {
   "cell_type": "code",
   "execution_count": 4,
   "metadata": {
    "collapsed": false
   },
   "outputs": [],
   "source": [
    "import numpy.matlib as matlib\n",
    "import math \n",
    "import numpy \n",
    "\n",
    "def logreg_gradient(x,t,W,b):\n",
    "    logq = []\n",
    "    for j in range(10):\n",
    "        logq.append((numpy.matrix(numpy.reshape(W[:,j],(1,784)))*numpy.matrix(x).T)[0][0,0] + b[j])\n",
    "    Z = sum(numpy.exp(logq))\n",
    "    logp = []\n",
    "    for i in range(10):\n",
    "        logp.append(logq[i] - math.log(Z))\n",
    "    delta = []\n",
    "    for j in range(10):\n",
    "        if( j==t):\n",
    "            delta.append(1-math.exp(logq[j])/Z)\n",
    "        else:\n",
    "            delta.append(-math.exp(logq[j])/Z)\n",
    "    x = numpy.reshape(x,(784,1))\n",
    "    x = matlib.repmat(x,1,10)\n",
    "    repdelta = matlib.repmat(delta,784,1)\n",
    "    dL = numpy.multiply(repdelta,x) \n",
    "    delta = numpy.reshape(delta, (10,1))\n",
    "    return dL, delta\n",
    "        \n",
    "    "
   ]
  },
  {
   "cell_type": "markdown",
   "metadata": {},
   "source": [
    "\n",
    "### 1.1.3 Stochastic gradient descent (10 points)\n",
    "\n",
    "Write a function `sgd_iter(x_train, t_train, w, b)` that performs one iteration of stochastic gradient descent (SGD), and returns the new weights. It should go through the trainingset once in randomized order, call `logreg_gradient(x, t, w, b)` for each datapoint to get the gradients, and update the parameters using a small learning rate (e.g. `1E-4`). Note that in this case we're maximizing the likelihood function, so we should actually performing gradient ___ascent___... For more information about SGD, see Bishop 5.2.4 or an online source (i.e. https://en.wikipedia.org/wiki/Stochastic_gradient_descent)"
   ]
  },
  {
   "cell_type": "code",
   "execution_count": 5,
   "metadata": {
    "collapsed": false
   },
   "outputs": [],
   "source": [
    "def sgd_iter(x_train1, t_train1, w, b):\n",
    "    rate = 1e-4\n",
    "    N = x_train1.shape[1]\n",
    "    arr = range(N)\n",
    "    numpy.random.shuffle(arr)\n",
    "    for i in arr: \n",
    "        dL, dB = logreg_gradient(x_train1[i], t_train1[i], w, b)\n",
    "        w = w + rate*dL\n",
    "        b = b + rate*dB\n",
    "    return w, b "
   ]
  },
  {
   "cell_type": "markdown",
   "metadata": {},
   "source": [
    "## 1.2. Train\n",
    "\n",
    "### 1.2.1 Train (10 points)\n",
    "Perform a handful of training iterations through the trainingset. Plot (in one graph) the conditional log-probability of the trainingset and validation set after each iteration.\n"
   ]
  },
  {
   "cell_type": "code",
   "execution_count": 7,
   "metadata": {
    "collapsed": false
   },
   "outputs": [
    {
     "data": {
      "image/png": "[encoded data removed]",
      "text/plain": [
       "<matplotlib.figure.Figure at 0x7bb7438>"
      ]
     },
     "metadata": {},
     "output_type": "display_data"
    }
   ],
   "source": [
    "import matplotlib.pyplot as plt\n",
    "I = 10\n",
    "W = numpy.zeros((784,10))\n",
    "b = numpy.zeros((10,1))\n",
    "trainprob = []\n",
    "validprob = []\n",
    "for i in range(I):\n",
    "    trainprob.append(0)\n",
    "    validprob.append(0)\n",
    "    (W,b) = sgd_iter(x_train,t_train,W,b)\n",
    "    for k in range(len(x_train)):\n",
    "        x = x_train[k]\n",
    "        t = t_train[k]\n",
    "        logq = []\n",
    "        for j in range(10):\n",
    "            logq.append((numpy.matrix(numpy.reshape(W[:,j],(1,784)))*numpy.matrix(x).T)[0][0,0] + b[j])\n",
    "        Z = sum(numpy.exp(logq))\n",
    "        trainprob[i] += logq[t] - math.log(Z)\n",
    "    for k in range(len(x_valid)):\n",
    "        x = x_valid[k]\n",
    "        t = t_valid[k]\n",
    "        logq = []\n",
    "        for j in range(10):\n",
    "            logq.append((numpy.matrix(numpy.reshape(W[:,j],(1,784)))*numpy.matrix(x).T)[0][0,0] + b[j])\n",
    "        Z = sum(numpy.exp(logq))\n",
    "        validprob[i] += logq[t] - math.log(Z)\n",
    "        \n",
    "iterations = range(I+1)\n",
    "del iterations[0]\n",
    "plt.plot(iterations,trainprob, 'ro', label = 'train')\n",
    "plt.plot(iterations,validprob, 'bo', label = 'valid')\n",
    "plt.xlabel('iterations')\n",
    "plt.ylabel('log-probability')\n",
    "plt.axis([0.5,10.5, -120000,0])\n",
    "plt.legend(loc = 'best')\n",
    "plt.show()\n",
    "    "
   ]
  },
  {
   "cell_type": "markdown",
   "metadata": {},
   "source": [
    "### 1.2.2 Visualize weights (10 points)\n",
    "Visualize the resulting parameters $\\bW$ after a few iterations through the training set, by treating each column of $\\bW$ as an image. If you want, you can use or edit the `plot_digits(...)` above."
   ]
  },
  {
   "cell_type": "code",
   "execution_count": 10,
   "metadata": {
    "collapsed": false
   },
   "outputs": [
    {
     "data": {
      "image/png": "[encoded data removed]",
      "text/plain": [
       "<matplotlib.figure.Figure at 0x8927f98>"
      ]
     },
     "metadata": {},
     "output_type": "display_data"
    }
   ],
   "source": [
    "W = numpy.zeros((784,10))\n",
    "b = numpy.zeros((10,1))\n",
    "for i in range(11):\n",
    "    (W,b) = sgd_iter(x_train,t_train,W,b)\n",
    "    #uncomment and use bigger range to see progress\n",
    "    '''if i % 20 == 0:\n",
    "        print(i+1)\n",
    "        plot_digits(W.T,numcols=5)'''\n",
    "plot_digits(W.T,numcols=5)"
   ]
  },
  {
   "cell_type": "markdown",
   "metadata": {},
   "source": [
    "### 1.2.3. Visualize the 8 hardest and 8 easiest digits (10 points)\n",
    "Visualize the 8 digits in the validation set with the highest probability of the true class label under the model.\n",
    "Also plot the 8 digits that were assigned the lowest probability.\n",
    "Ask yourself if these results make sense."
   ]
  },
  {
   "cell_type": "code",
   "execution_count": 6,
   "metadata": {
    "collapsed": false
   },
   "outputs": [
    {
     "data": {
      "image/png": "[encoded data removed]",
      "text/plain": [
       "<matplotlib.figure.Figure at 0x10bcbb910>"
      ]
     },
     "metadata": {},
     "output_type": "display_data"
    },
    {
     "data": {
      "image/png": "[encoded data removed]",
      "text/plain": [
       "<matplotlib.figure.Figure at 0x10d3a5bd0>"
      ]
     },
     "metadata": {},
     "output_type": "display_data"
    }
   ],
   "source": [
    "W = numpy.zeros((784,10))\n",
    "b = numpy.zeros((10,1))\n",
    "for i in range(10):\n",
    "    (W,b) = sgd_iter(x_train,t_train,W,b)\n",
    "lowestprob_val = [0,0,0,0,0,0,0,0]\n",
    "lowestprob_ind = [0,0,0,0,0,0,0,0]\n",
    "highestprob_val = [0,0,0,0,0,0,0,0]\n",
    "highestprob_ind = [0,0,0,0,0,0,0,0]\n",
    "for k in range(len(x_valid)):\n",
    "    x = x_valid[k]\n",
    "    t = t_valid[k]\n",
    "    logq = []\n",
    "    for j in range(10):\n",
    "        logq.append((numpy.matrix(numpy.reshape(W[:,j],(1,784)))*numpy.matrix(x).T)[0][0,0] + b[j])\n",
    "    Z = sum(numpy.exp(logq))\n",
    "    log_prob = logq[t] - math.log(Z)\n",
    "    m = -1\n",
    "    for i in range(8):\n",
    "        if(lowestprob_val[i] > log_prob):\n",
    "            m = i\n",
    "        else:\n",
    "            break\n",
    "    if(m != -1):\n",
    "        lowestprob_val.insert(m+1,log_prob)\n",
    "        lowestprob_ind.insert(m+1,k)\n",
    "        del lowestprob_val[0]\n",
    "        del lowestprob_ind[0]\n",
    "    #I think if you build lowestprob_val like this, lowestprob_val[7] will be the lowest one while lowestprob_val[0] \n",
    "    #will be the 8 lowest one.\n",
    "    m = -1\n",
    "    for i in range(8):\n",
    "        if(highestprob_val[i] < log_prob):\n",
    "            m = i\n",
    "        else:\n",
    "            break\n",
    "    #I think you made a mistake here. As all log_prob < 0, highestprob_val will always be 0, and highestprob_ind will\n",
    "    #always be 0... For more, you could see the example in the follow section.\n",
    "    if(m != -1):\n",
    "        highestprob_val.insert(m+1,log_prob)\n",
    "        highestprob_ind.insert(m+1,k)\n",
    "        del highestprob_val[0]\n",
    "        del highestprob_ind[0]\n",
    "imbest = []\n",
    "imworst = []\n",
    "for i in range(8):\n",
    "    imbest.append(x_valid[highestprob_ind[i]])\n",
    "    imworst.append(x_valid[lowestprob_ind[i]])\n",
    "imbest = numpy.array(imbest)\n",
    "imworst = numpy.array(imworst)\n",
    "plot_digits(imbest, numcols = 8)\n",
    "plot_digits(imworst, numcols = 8)"
   ]
  },
  {
   "cell_type": "code",
   "execution_count": 7,
   "metadata": {
    "collapsed": false
   },
   "outputs": [
    {
     "name": "stdout",
     "output_type": "stream",
     "text": [
      "[0, 0, 0, 0, 0, 0, 0, 0]\n",
      "[0, 0, 0, 0, 0, 0, 0, 0]\n",
      "[array([-2.71717005]), array([-2.72698136]), array([-2.75376614]), array([-2.78626386]), array([-2.80032059]), array([-2.82951151]), array([-2.89595242]), array([-2.89701729])]\n"
     ]
    }
   ],
   "source": [
    "print highestprob_ind\n",
    "print highestprob_val\n",
    "print lowestprob_val"
   ]
  },
  {
   "cell_type": "markdown",
   "metadata": {},
   "source": [
    "# Part 2. Multilayer perceptron\n",
    "\n",
    "\n",
    "You discover that the predictions by the logistic regression classifier are not good enough for your application: the model is too simple. You want to increase the accuracy of your predictions by using a better model. For this purpose, you're going to use a multilayer perceptron (MLP), a simple kind of neural network. The perceptron wil have a single hidden layer $\\bh$ with $L$ elements. The parameters of the model are $\\bV$ (connections between input $\\bx$ and hidden layer $\\bh$), $\\ba$ (the biases/intercepts of $\\bh$), $\\bW$ (connections between $\\bh$ and $\\log q$) and $\\bb$ (the biases/intercepts of $\\log q$.\n",
    "\n",
    "The conditional probability of the class label $j$ is given by:\n",
    "\n",
    "$\\log p(t = j \\;|\\; \\bx, \\bb, \\bW) = \\log q_j - \\log Z$\n",
    "\n",
    "where $q_j$ are again the unnormalized probabilities per class, and $Z = \\sum_j q_j$ is again the probability normalizing factor. Each $q_j$ is computed using:\n",
    "\n",
    "$\\log q_j = \\bw_j^T \\bh + b_j$\n",
    "\n",
    "where $\\bh$ is a $L \\times 1$ vector with the hidden layer activations (of a hidden layer with size $L$), and $\\bw_j$ is the $j$-th column of $\\bW$ (a $L \\times 10$ matrix). Each element of the hidden layer is computed from the input vector $\\bx$ using:\n",
    "\n",
    "$h_j = \\sigma(\\bv_j^T \\bx + a_j)$\n",
    "\n",
    "where $\\bv_j$ is the $j$-th column of $\\bV$ (a $784 \\times L$ matrix), $a_j$ is the $j$-th element of $\\ba$, and $\\sigma(.)$ is the so-called sigmoid activation function, defined by:\n",
    "\n",
    "$\\sigma(x) = \\frac{1}{1 + \\exp(-x)}$\n",
    "\n",
    "Note that this model is almost equal to the multiclass logistic regression model, but with an extra 'hidden layer' $\\bh$. The activations of this hidden layer can be viewed as features computed from the input, where the feature transformation ($\\bV$ and $\\ba$) is learned.\n",
    "\n",
    "## 2.1 Derive gradient equations (20 points)\n",
    "\n",
    "State (shortly) why $\\nabla_{\\bb} \\mathcal{L}^{(n)}$ is equal to the earlier (multiclass logistic regression) case, and why $\\nabla_{\\bw_j} \\mathcal{L}^{(n)}$ is almost equal to the earlier case.\n",
    "\n",
    "Like in multiclass logistic regression, you should use intermediate variables $\\mathbf{\\delta}_j^q$. In addition, you should use intermediate variables $\\mathbf{\\delta}_j^h = \\frac{\\partial \\mathcal{L}^{(n)}}{\\partial h_j}$.\n",
    "\n",
    "Given an input image, roughly the following intermediate variables should be computed:\n",
    "\n",
    "$\n",
    "\\log \\bq \\rightarrow Z \\rightarrow \\log \\bp \\rightarrow \\mathbf{\\delta}^q \\rightarrow \\mathbf{\\delta}^h\n",
    "$\n",
    "\n",
    "where $\\mathbf{\\delta}_j^h = \\frac{\\partial \\mathcal{L}^{(n)}}{\\partial \\bh_j}$.\n",
    "\n",
    "Give the equations for computing $\\mathbf{\\delta}^h$, and for computing the derivatives of $\\mathcal{L}^{(n)}$ w.r.t. $\\bW$, $\\bb$, $\\bV$ and $\\ba$. \n",
    "\n",
    "You can use the convenient fact that $\\frac{\\partial}{\\partial x} \\sigma(x) = \\sigma(x) (1 - \\sigma(x))$.\n",
    "\n",
    "#####Answer: "
   ]
  },
  {
   "cell_type": "markdown",
   "metadata": {},
   "source": [
    "$\\nabla_{\\bb} \\mathcal{L}^{(n)}$ is equal because $\\mathcal{L}^{(n)}$ depends on $\\bb$ in the same way as before, since $\\log \\bq_j$ and therefore $Z$ depend on $\\bb$ in the same way as before. \n",
    "\n",
    "$\\rightarrow \\nabla_\\bb \\mathcal{L}^{(n)} = \\mathbf{\\delta}^q$\n",
    "\n",
    "\n",
    "$\\nabla_{\\bw_j} \\mathcal{L}^{(n)}$ is also similar, because in $\\log \\bq_j$ we only exchanged $\\bx$ with $\\bh$ which does not depend on $\\bw_j$. Therefore we have $\\frac{\\partial \\log q_j}{\\partial W_{ij}} = \\frac{\\partial \\sum_{i=1}^M W_{ij}h_{i}+b_j}{\\partial W_{ij}} = h_i$ and $\\nabla_{\\bw_j} \\mathcal{L}^{(n)} = \\bh( [j = t^{(n)}](1- \\frac{q_j}{Z}) - [j \\neq t^{(n)}]\\frac{q_j}{Z})$ respectively.\n",
    "\n",
    "\n",
    "$\\delta^q_j = \\frac{\\partial \\mathcal{L}^{(n)}}{\\partial \\log q_j} = \\frac{\\partial\\log p(t = t^{(n)} \\;|\\; \\bx = x^{(n)}, \\bb, \\bW)}{\\partial \\log q_j} = \\frac{\\partial \\log q_{t^{(n)}} - \\log Z^{(n)}}{\\partial \\log q_j} = \\dots = [j = t^{(n)}](1- \\frac{q_j}{Z}) - [j \\neq t^{(n)}]\\frac{q_j}{Z}$\n",
    "\n",
    "\n",
    "$\\delta^h_j = \\frac{\\partial \\mathcal{L}^{(n)}}{\\partial h_j} = \\frac{\\partial\\log p(t = t^{(n)} \\;|\\; \\bx = x^{(n)}, \\bb, \\bW)}{\\partial h_j} = \\frac{\\partial \\log q_{t^{(n)}} - \\log Z^{(n)}}{\\partial h_j} = \\frac{\\partial \\bw_{t^{(n)}}^T\\bh + \\bb_{t^{(n)}} - \\log \\sum_i \\exp\\log \\bq_i}{\\partial h_j} = \\bW_{jt^{(n)}} - \\sum_k\\frac{\\partial \\log \\sum_i \\exp\\log \\bq_i}{\\partial \\log\\bq_k}\\frac{\\partial \\log \\bq_k}{\\partial \\bh_j} = \\bW_{jt^{(n)}} - \\sum_k\\frac{\\exp \\log \\bq_k}{\\sum_i \\exp\\log \\bq_i}\\bW_{kj} = \\bW_{jt^{(n)}} - \\sum_k\\bp_k\\bW_{jk}$\n",
    "\n",
    "<font color='red'>Here, I think the second last should be $\\bW_{jk}$ other than $\\bW_{kj}$.</font>\n",
    "\n",
    "$\\frac{\\partial \\mathcal{L}^{(n)}}{\\partial \\bv_j} = \\sum_l \\frac{\\partial \\mathcal{L}^{(n)}}{\\partial \\bh_l}\\frac{\\partial \\bh_l}{\\partial \\bv_j} = \\frac{\\partial \\mathcal{L}^{(n)}}{\\partial \\bh_j}\\frac{\\partial \\bh_j}{\\partial \\bv_j} = \\delta^h_j \\frac{\\partial \\sigma(\\bv_j^T\\bx+a_j)}{\\partial \\bv_j} = \\delta^h_j\\sigma(\\bv_j^T\\bx+a_j)(1-\\sigma(\\bv_j^T\\bx+a_j))\\bx = \\delta^h_j\\bh_j(1-\\bh_j)\\bx$\n",
    "\n",
    "$\\frac{\\partial \\mathcal{L}^{(n)}}{\\partial a_j} = \\sum_l \\frac{\\partial \\mathcal{L}^{(n)}}{\\partial \\bh_l}\\frac{\\partial \\bh_l}{\\partial a_j} = \\frac{\\partial \\mathcal{L}^{(n)}}{\\partial \\bh_j}\\frac{\\partial \\bh_j}{\\partial a_j} = \\delta^h_j \\frac{\\partial \\sigma(\\bv_j^T\\bx+a_j)}{\\partial a_j} = \\delta^h_j\\sigma(\\bv_j^T\\bx+a_j)(1-\\sigma(\\bv_j^T\\bx+a_j)) = \\delta^h_j\\bh_j(1-\\bh_j)$"
   ]
  },
  {
   "cell_type": "markdown",
   "metadata": {},
   "source": [
    "## 2.2 MAP optimization (10 points)\n",
    "\n",
    "You derived equations for finding the _maximum likelihood_ solution of the parameters. Explain, in a few sentences, how you could extend this approach so that it optimizes towards a _maximum a posteriori_ (MAP) solution of the parameters, with a Gaussian prior on the parameters. \n",
    "\n",
    "#####Answer: "
   ]
  },
  {
   "cell_type": "markdown",
   "metadata": {},
   "source": [
    "In order to find the MAP solution of the parameters one has to find parameters s.t. the posterior $p(\\bW,\\bb,\\bV,\\ba \\mid \\bt,\\bx) = p(\\bt,\\bx \\mid \\bW,\\bb,\\bV,\\ba)p(\\bW,\\bb,\\bV,\\ba)C$ is maximal. This can be done by looking at the log-posterior = log-likelihood + log-prior + log-$C$ and deriving in every direction and then using gradient ascent.\n",
    "Since we already have the derivatives for the log-likelihood this would not require that much more work."
   ]
  },
  {
   "cell_type": "markdown",
   "metadata": {},
   "source": [
    "## 2.3. Implement and train a MLP (15 points)\n",
    "\n",
    "Implement a MLP model with a single hidden layer, and code to train the model."
   ]
  },
  {
   "cell_type": "code",
   "execution_count": 15,
   "metadata": {
    "collapsed": false
   },
   "outputs": [
    {
     "name": "stdout",
     "output_type": "stream",
     "text": [
      "10\n",
      "11\n",
      "12\n",
      "13\n",
      "14\n",
      "15\n",
      "16\n",
      "17\n",
      "18\n",
      "19\n",
      "20\n",
      "21\n",
      "22\n",
      "23\n",
      "24\n",
      "25\n",
      "26\n",
      "27\n",
      "28\n",
      "29\n",
      "30\n",
      "31\n",
      "32\n",
      "33\n",
      "34\n",
      "35\n",
      "36\n",
      "37\n",
      "38\n",
      "39\n",
      "40\n",
      "41\n",
      "42\n",
      "43\n",
      "44\n",
      "45\n",
      "46\n",
      "47\n",
      "48\n",
      "49\n",
      "50\n",
      "51\n",
      "52\n",
      "53\n",
      "54\n",
      "55\n",
      "56\n",
      "57\n",
      "58\n",
      "59\n",
      "60\n",
      "61\n",
      "62\n",
      "63\n",
      "64\n",
      "65\n",
      "66\n",
      "67\n",
      "68\n",
      "69\n",
      "70\n",
      "71\n",
      "72\n",
      "73\n",
      "74\n",
      "75\n",
      "76\n",
      "77\n",
      "78\n",
      "79\n",
      "80\n",
      "81\n",
      "82\n",
      "83\n",
      "84\n",
      "85\n",
      "86\n",
      "87\n",
      "88\n",
      "89\n",
      "90\n",
      "91\n",
      "92\n",
      "93\n",
      "94\n",
      "95\n",
      "96\n",
      "97\n",
      "98\n",
      "99\n",
      "100\n",
      "101\n",
      "102\n",
      "103\n",
      "104\n",
      "105\n",
      "106\n",
      "107\n",
      "108\n",
      "109\n",
      "110\n",
      "111\n",
      "112\n",
      "113\n",
      "114\n",
      "115\n",
      "116\n",
      "117\n",
      "118\n",
      "119\n",
      "120\n",
      "121\n",
      "122\n",
      "123\n",
      "124\n",
      "125\n",
      "126\n",
      "127\n",
      "128\n",
      "129\n",
      "130\n",
      "131\n",
      "132\n",
      "133\n",
      "134\n",
      "135\n",
      "136\n",
      "137\n",
      "138\n",
      "139\n",
      "140\n",
      "141\n",
      "142\n",
      "143\n",
      "144\n",
      "145\n",
      "146\n",
      "147\n",
      "148\n",
      "149\n",
      "150\n"
     ]
    },
    {
     "data": {
      "image/png": "[encoded data removed]",
      "text/plain": [
       "<matplotlib.figure.Figure at 0x10b488410>"
      ]
     },
     "metadata": {},
     "output_type": "display_data"
    }
   ],
   "source": [
    "def MLP_gradient(x,t,W,b,V,a):\n",
    "    L = shape(W)[0]\n",
    "    h = []\n",
    "    for i in range(L):\n",
    "        h.append(1/(1+math.exp(-((numpy.matrix(numpy.reshape(V[:,i],(1,784)))*numpy.matrix(x).T)[0][0,0] + a[i]))))\n",
    "    h = numpy.matrix(numpy.reshape(h,(L,1)))\n",
    "    logq = []\n",
    "    for j in range(10):\n",
    "        logq.append((numpy.matrix(numpy.reshape(W[:,j],(1,L)))*h)[0][0,0] + b[j])\n",
    "    Z = sum(numpy.exp(logq))\n",
    "    logp = []\n",
    "    for i in range(10):\n",
    "        logp.append(logq[i] - math.log(Z))\n",
    "    deltaq = []\n",
    "    for j in range(10):\n",
    "        if( j==t):\n",
    "            deltaq.append(1-math.exp(logq[j])/Z)\n",
    "        else:\n",
    "            deltaq.append(-math.exp(logq[j])/Z)\n",
    "    deltah = []\n",
    "    for j in range(L):\n",
    "        deltah.append(W[j,t]-numpy.matrix(numpy.reshape(numpy.exp(logp),(1,10)))*(numpy.matrix(numpy.reshape(W[j,:],(10,1)))))\n",
    "    reph = matlib.repmat(h,1,10)\n",
    "    repdeltaq = matlib.repmat(deltaq,L,1)\n",
    "    deltaW = numpy.multiply(repdeltaq,reph)\n",
    "    deltaq = numpy.reshape(deltaq, (10,1))\n",
    "    deltaa = []\n",
    "    for i in range(L):\n",
    "        deltaa.append(deltah[i]*h[j]*(1-h[j]))\n",
    "    deltaa = numpy.reshape(deltaa, (L,1))\n",
    "    repdeltaa = matlib.repmat(numpy.reshape(deltaa, (1,L)),784,1)\n",
    "    x = numpy.reshape(x,(784,1))\n",
    "    repx = matlib.repmat(x,1,L)\n",
    "    deltaV = numpy.multiply(repdeltaa,repx)\n",
    "    return deltaW, deltaq, deltaV, deltaa\n",
    "\n",
    "def sgd_iter(x_train1, t_train1, W, b, V, a):\n",
    "    rate = 1e-3\n",
    "    N = x_train1.shape[1]\n",
    "    arr = range(N)\n",
    "    numpy.random.shuffle(arr)\n",
    "    for i in arr: \n",
    "        dW, db, dV, da = MLP_gradient(x_train1[i], t_train1[i], W, b, V, a)\n",
    "        W = W + rate*dW\n",
    "        b = b + rate*db\n",
    "        V = V + rate*dV\n",
    "        a = a + rate*da\n",
    "    return W, b, V, a\n",
    "\n",
    "I = 30\n",
    "speedup = 5\n",
    "L = 50\n",
    "W = numpy.random.normal(0,1,(L,10))\n",
    "b = numpy.random.normal(0,1,(10,1))\n",
    "V = numpy.random.normal(0,1,(784,L))\n",
    "a = numpy.random.normal(0,1,(L,1))\n",
    "trainprob = []\n",
    "validprob = []\n",
    "for i in range(speedup*I + 1):\n",
    "    (W,b,V,a) = sgd_iter(x_train,t_train,W,b,V,a)\n",
    "    if(i % speedup == 0):\n",
    "        trainprob.append(0)\n",
    "        validprob.append(0)\n",
    "        for k in range(len(x_train)):\n",
    "            x = x_train[k]\n",
    "            t = t_train[k]\n",
    "            h = []\n",
    "            for j in range(L):\n",
    "                h.append(1/(1+math.exp(-((numpy.matrix(numpy.reshape(V[:,j],(1,784)))*numpy.matrix(x).T)[0][0,0] + a[j]))))\n",
    "            h = numpy.matrix(numpy.reshape(h,(L,1)))\n",
    "            logq = []\n",
    "            for j in range(10):\n",
    "                logq.append((numpy.matrix(numpy.reshape(W[:,j],(1,L)))*h)[0][0,0] + b[j])\n",
    "            Z = sum(numpy.exp(logq))\n",
    "            trainprob[i//speedup] += logq[t] - math.log(Z)\n",
    "        for k in range(len(x_valid)):\n",
    "            x = x_valid[k]\n",
    "            t = t_valid[k]\n",
    "            h = []\n",
    "            for j in range(L):\n",
    "                h.append(1/(1+math.exp(-((numpy.matrix(numpy.reshape(V[:,j],(1,784)))*numpy.matrix(x).T)[0][0,0] + a[j]))))\n",
    "            h = numpy.matrix(numpy.reshape(h,(L,1)))\n",
    "            logq = []\n",
    "            for j in range(10):\n",
    "                logq.append((numpy.matrix(numpy.reshape(W[:,j],(1,L)))*h)[0][0,0] + b[j])\n",
    "            Z = sum(numpy.exp(logq))\n",
    "            validprob[i//speedup] += logq[t] - math.log(Z)\n",
    "    if (i/10 !=0):\n",
    "        print(i)\n",
    "iterations = range(I+2)\n",
    "del iterations[0]\n",
    "plt.plot(iterations ,trainprob, 'ro', label = 'train')\n",
    "plt.plot(iterations,validprob, 'bo', label = 'valid')\n",
    "plt.xlabel('iterations/speedup')\n",
    "plt.ylabel('log-probability')\n",
    "#plt.axis([0.5,I+0.5, -200000,0])\n",
    "plt.legend(loc = 'best')\n",
    "plt.show()"
   ]
  },
  {
   "cell_type": "markdown",
   "metadata": {},
   "source": [
    "### 2.3.1. Less than 250 misclassifications on the test set (10 bonus points)\n",
    "\n",
    "You receive an additional 10 bonus points if you manage to train a model with very high accuracy: at most 2.5% misclasified digits on the test set. Note that the test set contains 10000 digits, so you model should misclassify at most 250 digits. This should be achievable with a MLP model with one hidden layer. See results of various models at : `http://yann.lecun.com/exdb/mnist/index.html`. To reach such a low accuracy, you probably need to have a very high $L$ (many hidden units), probably $L > 200$, and apply a strong Gaussian prior on the weights. In this case you are allowed to use the validation set for training.\n",
    "You are allowed to add additional layers, and use convolutional networks, although that is probably not required to reach 2.5% misclassifications."
   ]
  },
  {
   "cell_type": "code",
   "execution_count": 19,
   "metadata": {
    "collapsed": false,
    "scrolled": true
   },
   "outputs": [
    {
     "name": "stdout",
     "output_type": "stream",
     "text": [
      "3321 10000\n"
     ]
    }
   ],
   "source": [
    "def MLP_predict(W,V,a,b,x,t):\n",
    "    N,M = x.shape\n",
    "    l = len(W)\n",
    "    h = 1.0/(1.0+np.exp(-x.dot(V) + matlib.repmat(a.T,N,1)))\n",
    "    y_prob = h.dot(W) + matlib.repmat(b.T,N,1)\n",
    "    y = y_prob.argmax(1)\n",
    "    err = 0\n",
    "    for i in range(len(y)):\n",
    "        if (y[i] != t[i]):\n",
    "            err = err+1\n",
    "    print err,N\n",
    "    return y,y_prob \n",
    "\n",
    "y,yp = MLP_predict(W,V,a,b,x_valid,t_valid)\n",
    "\n"
   ]
  },
  {
   "cell_type": "code",
   "execution_count": null,
   "metadata": {
    "collapsed": true
   },
   "outputs": [],
   "source": []
  }
 ],
 "metadata": {
  "anaconda-cloud": {},
  "kernelspec": {
   "display_name": "Python [conda env:py27]",
   "language": "python",
   "name": "conda-env-py27-py"
  },
  "language_info": {
   "codemirror_mode": {
    "name": "ipython",
    "version": 2
   },
   "file_extension": ".py",
   "mimetype": "text/x-python",
   "name": "python",
   "nbconvert_exporter": "python",
   "pygments_lexer": "ipython2",
   "version": "2.7.12"
  }
 },
 "nbformat": 4,
 "nbformat_minor": 0
}
