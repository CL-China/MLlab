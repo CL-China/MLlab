{
 "cells": [
  {
   "cell_type": "markdown",
   "metadata": {},
   "source": [
    "# Lab 2: Classification\n",
    "\n",
    "### Machine Learning 1, September 2016\n",
    "\n",
    "* The lab exercises should be made in groups of two people.\n",
    "* The deadline is October 9th (Sunday) 23:59.\n",
    "* Assignment should be sent to your teaching assistant. The subject line of your email should be \"lab\\#\\_lastname1\\_lastname2\\_lastname3\".\n",
    "* Put your and your teammates' names in the body of the email.\n",
    "* Attach the .IPYNB (IPython Notebook) file containing your code and answers. Naming of the file follows the same rule as the subject line. For example, if the subject line is \"lab01\\_Kingma\\_Hu\", the attached file should be \"lab01\\_Kingma\\_Hu.ipynb\". Only use underscores (\"\\_\") to connect names, otherwise the files cannot be parsed.\n",
    "\n",
    "Notes on implementation:\n",
    "\n",
    "* For this notebook you need to answer a few theory questions, add them in the Markdown cell's below the question. Note: you can use Latex-style code in here.\n",
    "* Focus on Part 1 the first week, and Part 2 the second week!\n",
    "* You should write your code and answers below the questions in this IPython Notebook.\n",
    "* Among the first lines of your notebook should be \"%pylab inline\". This imports all required modules, and your plots will appear inline.\n",
    "* If you have questions outside of the labs, post them on blackboard or email me.\n",
    "* NOTE: Make sure we can run your notebook / scripts!\n",
    "\n",
    "$\\newcommand{\\bx}{\\mathbf{x}}$\n",
    "$\\newcommand{\\bw}{\\mathbf{w}}$\n",
    "$\\newcommand{\\bt}{\\mathbf{t}}$\n",
    "$\\newcommand{\\by}{\\mathbf{y}}$\n",
    "$\\newcommand{\\bm}{\\mathbf{m}}$\n",
    "$\\newcommand{\\bb}{\\mathbf{b}}$\n",
    "$\\newcommand{\\bS}{\\mathbf{S}}$\n",
    "$\\newcommand{\\ba}{\\mathbf{a}}$\n",
    "$\\newcommand{\\bz}{\\mathbf{z}}$\n",
    "$\\newcommand{\\bv}{\\mathbf{v}}$\n",
    "$\\newcommand{\\bq}{\\mathbf{q}}$\n",
    "$\\newcommand{\\bp}{\\mathbf{p}}$\n",
    "$\\newcommand{\\bh}{\\mathbf{h}}$\n",
    "$\\newcommand{\\bI}{\\mathbf{I}}$\n",
    "$\\newcommand{\\bX}{\\mathbf{X}}$\n",
    "$\\newcommand{\\bT}{\\mathbf{T}}$\n",
    "$\\newcommand{\\bPhi}{\\mathbf{\\Phi}}$\n",
    "$\\newcommand{\\bW}{\\mathbf{W}}$\n",
    "$\\newcommand{\\bV}{\\mathbf{V}}$"
   ]
  },
  {
   "cell_type": "code",
   "execution_count": 2,
   "metadata": {
    "collapsed": false
   },
   "outputs": [
    {
     "name": "stderr",
     "output_type": "stream",
     "text": [
      "/Users/lichang/anaconda/envs/py27/lib/python2.7/site-packages/matplotlib/font_manager.py:273: UserWarning: Matplotlib is building the font cache using fc-list. This may take a moment.\n",
      "  warnings.warn('Matplotlib is building the font cache using fc-list. This may take a moment.')\n"
     ]
    },
    {
     "name": "stdout",
     "output_type": "stream",
     "text": [
      "Populating the interactive namespace from numpy and matplotlib\n"
     ]
    }
   ],
   "source": [
    "%pylab inline\n",
    "import gzip, cPickle, numpy, matplotlib\n",
    "import numpy.matlib as matlib\n",
    "import math "
   ]
  },
  {
   "cell_type": "markdown",
   "metadata": {},
   "source": [
    "# Part 1. Multiclass logistic regression\n",
    "\n",
    "Scenario: you have a friend with one big problem: she's completely blind. You decided to help her: she has a special smartphone for blind people, and you are going to develop a mobile phone app that can do _machine vision_ using the mobile camera: converting a picture (from the camera) to the meaning of the image. You decide to start with an app that can read handwritten digits, i.e. convert an image of handwritten digits to text (e.g. it would enable her to read precious handwritten phone numbers).\n",
    "\n",
    "A key building block for such an app would be a function `predict_digit(x)` that returns the digit class of an image patch $\\bx$. Since hand-coding this function is highly non-trivial, you decide to solve this problem using machine learning, such that the internal parameters of this function are automatically learned using machine learning techniques.\n",
    "\n",
    "The dataset you're going to use for this is the MNIST handwritten digits dataset (`http://yann.lecun.com/exdb/mnist/`). You can load the data from `mnist.pkl.gz` we provided, using: "
   ]
  },
  {
   "cell_type": "code",
   "execution_count": 3,
   "metadata": {
    "collapsed": false
   },
   "outputs": [],
   "source": [
    "def load_mnist():\n",
    "    f = gzip.open('mnist.pkl.gz', 'rb')\n",
    "    data = cPickle.load(f)\n",
    "    f.close()\n",
    "    return data\n",
    "\n",
    "(x_train, t_train), (x_valid, t_valid), (x_test, t_test) = load_mnist()"
   ]
  },
  {
   "cell_type": "markdown",
   "metadata": {},
   "source": [
    "The tuples represent train, validation and test sets. The first element (`x_train`, `x_valid`, `x_test`) of each tuple is a $N \\times M$ matrix, where $N$ is the number of datapoints and $M = 28^2 = 784$ is the dimensionality of the data. The second element (`t_train`, `t_valid`, `t_test`) of each tuple is the corresponding $N$-dimensional vector of integers, containing the true class labels.\n",
    "\n",
    "Here's a visualisation of the first 8 digits of the trainingset:"
   ]
  },
  {
   "cell_type": "code",
   "execution_count": 4,
   "metadata": {
    "collapsed": false
   },
   "outputs": [
    {
     "data": {
      "image/png": "[encoded data removed]",
      "text/plain": [
       "<matplotlib.figure.Figure at 0x10a9eb410>"
      ]
     },
     "metadata": {},
     "output_type": "display_data"
    }
   ],
   "source": [
    "def plot_digits(data, numcols, shape=(28,28)):\n",
    "    numdigits = data.shape[0]\n",
    "    numrows = int(numdigits/numcols)\n",
    "    for i in range(numdigits):\n",
    "        plt.subplot(numrows, numcols, i+1)\n",
    "        plt.axis('off')\n",
    "        plt.imshow(data[i].reshape(shape), interpolation='nearest', cmap='Greys')\n",
    "    plt.show()\n",
    "    \n",
    "plot_digits(x_train[0:8], numcols=4)"
   ]
  },
  {
   "cell_type": "markdown",
   "metadata": {},
   "source": [
    "In _multiclass_ logistic regression, the conditional probability of class label $j$ given the image $\\bx$ for some datapoint is given by:\n",
    "\n",
    "$ \\log p(t = j \\;|\\; \\bx, \\bb, \\bW) = \\log q_j - \\log Z$\n",
    "\n",
    "where $\\log q_j = \\bw_j^T \\bx + b_j$ (the log of the unnormalized probability of the class $j$), and $Z = \\sum_k q_k$ is the normalizing factor. $\\bw_j$ is the $j$-th column of $\\bW$ (a matrix of size $784 \\times 10$) corresponding to the class label, $b_j$ is the $j$-th element of $\\bb$.\n",
    "\n",
    "Given an input image, the multiclass logistic regression model first computes the intermediate vector $\\log \\bq$ (of size $10 \\times 1$), using $\\log q_j = \\bw_j^T \\bx + b_j$, containing the unnormalized log-probabilities per class. \n",
    "\n",
    "The unnormalized probabilities are then normalized by $Z$ such that $\\sum_j p_j = \\sum_j \\exp(\\log p_j) = 1$. This is done by $\\log p_j = \\log q_j - \\log Z$ where $Z = \\sum_j \\exp(\\log q_j)$. This is known as the _softmax_ transformation, and is also used as a last layer of many classifcation neural network models, to ensure that the output of the network is a normalized distribution, regardless of the values of second-to-last layer ($\\log \\bq$)\n",
    "\n",
    "Warning: when computing $\\log Z$, you are likely to encounter numerical problems. Save yourself countless hours of debugging and learn the [log-sum-exp trick](https://hips.seas.harvard.edu/blog/2013/01/09/computing-log-sum-exp/ \"Title\").\n",
    "\n",
    "The network's output $\\log \\bp$ of size $10 \\times 1$ then contains the conditional log-probabilities $\\log p(t = j \\;|\\; \\bx, \\bb, \\bW)$ for each digit class $j$. In summary, the computations are done in this order:\n",
    "\n",
    "$\\bx \\rightarrow \\log \\bq \\rightarrow Z \\rightarrow \\log \\bp$\n",
    "\n",
    "Given some dataset with $N$ independent, identically distributed datapoints, the log-likelihood is given by:\n",
    "\n",
    "$ \\mathcal{L}(\\bb, \\bW) = \\sum_{n=1}^N \\mathcal{L}^{(n)}$\n",
    "\n",
    "where we use $\\mathcal{L}^{(n)}$ to denote the partial log-likelihood evaluated over a single datapoint. It is important to see that the log-probability of the class label $t^{(n)}$ given the image, is given by the $t^{(n)}$-th element of the network's output $\\log \\bp$, denoted by $\\log p_{t^{(n)}}$:\n",
    "\n",
    "$\\mathcal{L}^{(n)} = \\log p(t = t^{(n)} \\;|\\; \\bx = \\bx^{(n)}, \\bb, \\bW) = \\log p_{t^{(n)}} = \\log q_{t^{(n)}} - \\log Z^{(n)}$\n",
    "\n",
    "where $\\bx^{(n)}$ and $t^{(n)}$ are the input (image) and class label (integer) of the $n$-th datapoint, and $Z^{(n)}$ is the normalizing constant for the distribution over $t^{(n)}$.\n"
   ]
  },
  {
   "cell_type": "markdown",
   "metadata": {},
   "source": [
    "## 1.1 Gradient-based stochastic optimization\n",
    "\n",
    "### 1.1.1 Derive gradient equations (20 points)\n",
    "\n",
    "Derive the equations for computing the (first) partial derivatives of the log-likelihood w.r.t. all the parameters, evaluated at a _single_ datapoint $n$.\n",
    "\n",
    "You should start deriving the equations for $\\frac{\\partial \\mathcal{L}^{(n)}}{\\partial \\log q_j}$ for each $j$. For clarity, we'll use the shorthand $\\delta^q_j = \\frac{\\partial \\mathcal{L}^{(n)}}{\\partial \\log q_j}$.\n",
    "\n",
    "For $j = t^{(n)}$:\n",
    "$\n",
    "\\delta^q_j\n",
    "= \\frac{\\partial \\mathcal{L}^{(n)}}{\\partial \\log p_j}\n",
    "\\frac{\\partial \\log p_j}{\\partial \\log q_j}\n",
    "- \\frac{\\partial \\mathcal{L}^{(n)}}{\\partial \\log Z}\n",
    "\\frac{\\partial \\log Z}{\\partial Z} \n",
    "\\frac{\\partial Z}{\\partial \\log q_j} \n",
    "= 1 \\cdot 1 - \\frac{\\partial \\log Z}{\\partial Z} \n",
    "\\frac{\\partial Z}{\\partial \\log q_j}\n",
    "= 1 - \\frac{\\partial \\log Z}{\\partial Z} \n",
    "\\frac{\\partial Z}{\\partial \\log q_j}\n",
    "$\n",
    "\n",
    "For $j \\neq t^{(n)}$:\n",
    "$\n",
    "\\delta^q_j\n",
    "= \\frac{\\partial \\mathcal{L}^{(n)}}{\\partial \\log Z}\n",
    "\\frac{\\partial \\log Z}{\\partial Z} \n",
    "\\frac{\\partial Z}{\\partial \\log q_j} \n",
    "= - \\frac{\\partial \\log Z}{\\partial Z} \n",
    "\\frac{\\partial Z}{\\partial \\log q_j}\n",
    "$\n",
    "\n",
    "Complete the above derivations for $\\delta^q_j$ by furtherly developing $\\frac{\\partial \\log Z}{\\partial Z}$ and $\\frac{\\partial Z}{\\partial \\log q_j}$. Both are quite simple. For these it doesn't matter whether $j = t^{(n)}$ or not.\n",
    "\n",
    "Given your equations for computing the gradients $\\delta^q_j$ it should be quite straightforward to derive the equations for the gradients of the parameters of the model, $\\frac{\\partial \\mathcal{L}^{(n)}}{\\partial W_{ij}}$ and $\\frac{\\partial \\mathcal{L}^{(n)}}{\\partial b_j}$. The gradients for the biases $\\bb$ are given by:\n",
    "\n",
    "$\n",
    "\\frac{\\partial \\mathcal{L}^{(n)}}{\\partial b_j}\n",
    "= \\frac{\\partial \\mathcal{L}^{(n)}}{\\partial \\log q_j}\n",
    "\\frac{\\partial \\log q_j}{\\partial b_j}\n",
    "= \\delta^q_j\n",
    "\\cdot 1\n",
    "= \\delta^q_j\n",
    "$\n",
    "\n",
    "The equation above gives the derivative of $\\mathcal{L}^{(n)}$ w.r.t. a single element of $\\bb$, so the vector $\\nabla_\\bb \\mathcal{L}^{(n)}$ with all derivatives of $\\mathcal{L}^{(n)}$ w.r.t. the bias parameters $\\bb$ is: \n",
    "\n",
    "$\n",
    "\\nabla_\\bb \\mathcal{L}^{(n)} = \\mathbf{\\delta}^q\n",
    "$\n",
    "\n",
    "where $\\mathbf{\\delta}^q$ denotes the vector of size $10 \\times 1$ with elements $\\mathbf{\\delta}_j^q$.\n",
    "\n",
    "The (not fully developed) equation for computing the derivative of $\\mathcal{L}^{(n)}$ w.r.t. a single element $W_{ij}$ of $\\bW$ is:\n",
    "\n",
    "$\n",
    "\\frac{\\partial \\mathcal{L}^{(n)}}{\\partial W_{ij}} =\n",
    "\\frac{\\partial \\mathcal{L}^{(n)}}{\\partial \\log q_j}\n",
    "\\frac{\\partial \\log q_j}{\\partial W_{ij}}\n",
    "= \\mathbf{\\delta}_j^q\n",
    "\\frac{\\partial \\log q_j}{\\partial W_{ij}}\n",
    "$\n",
    "\n",
    "What is $\\frac{\\partial \\log q_j}{\\partial W_{ij}}$? Complete the equation above.\n",
    "\n",
    "If you want, you can give the resulting equation in vector format ($\\nabla_{\\bw_j} \\mathcal{L}^{(n)} = ...$), like we did for $\\nabla_\\bb \\mathcal{L}^{(n)}$.\n",
    "\n",
    "#####Answer: "
   ]
  },
  {
   "cell_type": "markdown",
   "metadata": {},
   "source": [
    "$\\frac{\\partial \\log (Z)}{\\partial Z} = \\frac{1}{Z}$\n",
    "\n",
    "$\\frac{\\partial Z}{\\partial \\log (q_j)} = \\frac{\\partial \\sum_i \\exp(\\log(q_i))}{\\partial \\log(q_j)} = \\exp(\\log(q_j)) = q_j$ \n",
    "\n",
    "$\\Rightarrow \\delta^q_j = [j = t^{(n)}](1- \\frac{\\partial \\log (Z)}{\\partial Z}\\frac{\\partial Z}{\\partial \\log (q_j)}) - [j \\neq t^{(n)}]\\frac{\\partial \\log (Z)}{\\partial Z}\\frac{\\partial Z}{\\partial \\log (q_j)} = [j = t^{(n)}](1- \\frac{1}{Z}q_j) - [j \\neq t^{(n)}]\\frac{1}{Z}q_j = [j = t^{(n)}](1- \\frac{q_j}{Z}) - [j \\neq t^{(n)}]\\frac{q_j}{Z}$\n",
    "\n",
    "$\\frac{\\partial \\log q_j}{\\partial W_{ij}} = \\frac{\\partial \\sum_{i=1}^M W_{ij}x_{i}+b_j}{\\partial W_{ij}} = x_i$"
   ]
  },
  {
   "cell_type": "markdown",
   "metadata": {},
   "source": [
    "### 1.1.2 Implement gradient computations (10 points)\n",
    "\n",
    "Implement the gradient calculations you derived in the previous question. Write a function `logreg_gradient(x, t, w, b)` that returns the gradients $\\nabla_{\\bw_j} \\mathcal{L}^{(n)}$ (for each $j$) and $\\nabla_{\\bb} \\mathcal{L}^{(n)}$, i.e. the first partial derivatives of the log-likelihood w.r.t. the parameters $\\bW$ and $\\bb$, evaluated at a single datapoint (`x`, `t`).\n",
    "The computation will contain roughly the following intermediate variables:\n",
    "\n",
    "$\n",
    "\\log \\bq \\rightarrow Z \\rightarrow \\log \\bp\\,,\\, \\mathbf{\\delta}^q\n",
    "$\n",
    "\n",
    "followed by computation of the gradient vectors $\\nabla_{\\bw_j} \\mathcal{L}^{(n)}$ (contained in a $784 \\times 10$ matrix) and $\\nabla_{\\bb} \\mathcal{L}^{(n)}$ (a $10 \\times 1$ vector).\n"
   ]
  },
  {
   "cell_type": "code",
   "execution_count": 4,
   "metadata": {
    "collapsed": false
   },
   "outputs": [],
   "source": [
    "def logreg_gradient(x,t,W,b):\n",
    "    logq = np.zeros((10,1))\n",
    "    logq = (W.T.dot(x) + b.T).T\n",
    "    Z = np.sum(numpy.exp(logq))\n",
    "    logp = logq - np.log(Z)\n",
    "    delta = np.zeros((10,1))\n",
    "    for j in range(10):\n",
    "        if( j == t):\n",
    "            delta[j] = 1-np.exp(logq[j])/Z\n",
    "        else:\n",
    "            delta[j] = -np.exp(logq[j])/Z\n",
    "    dL = numpy.multiply(delta,x).T \n",
    "    return dL, delta\n",
    "        \n",
    "    "
   ]
  },
  {
   "cell_type": "markdown",
   "metadata": {},
   "source": [
    "\n",
    "### 1.1.3 Stochastic gradient descent (10 points)\n",
    "\n",
    "Write a function `sgd_iter(x_train, t_train, w, b)` that performs one iteration of stochastic gradient descent (SGD), and returns the new weights. It should go through the trainingset once in randomized order, call `logreg_gradient(x, t, w, b)` for each datapoint to get the gradients, and update the parameters using a small learning rate (e.g. `1E-4`). Note that in this case we're maximizing the likelihood function, so we should actually performing gradient ___ascent___... For more information about SGD, see Bishop 5.2.4 or an online source (i.e. https://en.wikipedia.org/wiki/Stochastic_gradient_descent)"
   ]
  },
  {
   "cell_type": "code",
   "execution_count": 8,
   "metadata": {
    "collapsed": false
   },
   "outputs": [],
   "source": [
    "def sgd_iter(x_train, t_train, w, b):\n",
    "    rate = 1e-4\n",
    "    N = len(x_train)\n",
    "    arr = np.arange(N)\n",
    "    numpy.random.shuffle(arr)\n",
    "    for i in arr: \n",
    "        dL, dB = logreg_gradient(x_train[i], t_train[i], w, b)\n",
    "        w = w + rate*dL\n",
    "        b = b + rate*dB\n",
    "    return w, b "
   ]
  },
  {
   "cell_type": "markdown",
   "metadata": {},
   "source": [
    "## 1.2. Train\n",
    "\n",
    "### 1.2.1 Train (10 points)\n",
    "Perform a handful of training iterations through the trainingset. Plot (in one graph) the conditional log-probability of the trainingset and validation set after each iteration.\n"
   ]
  },
  {
   "cell_type": "code",
   "execution_count": 9,
   "metadata": {
    "collapsed": false
   },
   "outputs": [
    {
     "data": {
      "image/png": "[encoded data removed]",
      "text/plain": [
       "<matplotlib.figure.Figure at 0x104388d90>"
      ]
     },
     "metadata": {},
     "output_type": "display_data"
    }
   ],
   "source": [
    "(x_train, t_train), (x_valid, t_valid), (x_test, t_test) = load_mnist()\n",
    "\n",
    "N,M = x_train.shape\n",
    "NV = len(x_valid)\n",
    "w = np.zeros((M,10))\n",
    "b = np.zeros((10,1))\n",
    "its = 50\n",
    "logp = np.zeros((its,2))\n",
    "for i in range(its):\n",
    "    w,b = sgd_iter(x_train, t_train, w, b)\n",
    "    #trianing set\n",
    "    logq = x_train.dot(w) + matlib.repmat(b.T,N,1)\n",
    "    z = np.sum(np.exp(logq),1)\n",
    "    zmax = z.max\n",
    "    #logp = np.sum(logq - matlib.repmat(np.log(z),10,1).T,0)\n",
    "    logqq = np.zeros(N)\n",
    "    for j in range(N):\n",
    "        logqq[j] = logq[j,t_train[j]]       \n",
    "    logp[i,0] = np.sum(logqq - np.log(z))\n",
    "    #validate set\n",
    "    logq = x_valid.dot(w) + matlib.repmat(b.T,NV,1)\n",
    "    z = np.sum(np.exp(logq),1)\n",
    "    zmax = z.max\n",
    "    #logp = np.sum(logq - matlib.repmat(np.log(z),10,1).T,0)\n",
    "    logqq = np.zeros(NV)\n",
    "    for j in range(NV):\n",
    "        logqq[j] = logq[j,t_valid[j]]       \n",
    "    logp[i,1] = np.sum(logqq - np.log(z))\n",
    "iterations = range(its+1)\n",
    "del iterations[0]\n",
    "plt.plot(iterations,logp[:,0], 'ro', label = 'train')\n",
    "plt.plot(iterations,logp[:,1], 'bo', label = 'valid')\n",
    "plt.xlabel('iterations')\n",
    "plt.ylabel('log-probability')\n",
    "plt.axis([0.5,50.5, -120000,0])\n",
    "plt.legend(loc = 'best')\n",
    "plt.show()\n"
   ]
  },
  {
   "cell_type": "code",
   "execution_count": 13,
   "metadata": {
    "collapsed": false
   },
   "outputs": [
    {
     "name": "stdout",
     "output_type": "stream",
     "text": [
      "0.084\n"
     ]
    }
   ],
   "source": [
    "def MLR_predict(x,t,w,b):\n",
    "    N,M = x.shape\n",
    "    logq = x.dot(w) + matlib.repmat(b.T,N,1)\n",
    "    y = logq.argmax(1)\n",
    "    err = 0.0\n",
    "    for i in range(N):\n",
    "        if (y[i]!=t[i]):\n",
    "            err+=1\n",
    "    return y,err/N\n",
    "\n",
    "yyy,eee = MLR_predict(x_valid,t_valid,w,b)\n",
    "print eee"
   ]
  },
  {
   "cell_type": "markdown",
   "metadata": {},
   "source": [
    "### 1.2.2 Visualize weights (10 points)\n",
    "Visualize the resulting parameters $\\bW$ after a few iterations through the training set, by treating each column of $\\bW$ as an image. If you want, you can use or edit the `plot_digits(...)` above."
   ]
  },
  {
   "cell_type": "code",
   "execution_count": 12,
   "metadata": {
    "collapsed": false
   },
   "outputs": [
    {
     "name": "stdout",
     "output_type": "stream",
     "text": [
      "Visualized weights\n"
     ]
    },
    {
     "data": {
      "image/png": "[encoded data removed]",
      "text/plain": [
       "<matplotlib.figure.Figure at 0x10b2a4bd0>"
      ]
     },
     "metadata": {},
     "output_type": "display_data"
    }
   ],
   "source": [
    "W = numpy.zeros((784,10))\n",
    "b = numpy.zeros((10,1))\n",
    "for i in range(101):\n",
    "    (W,b) = sgd_iter(x_train,t_train,W,b)\n",
    "#    if i % 20 == 0:\n",
    "#        print(i+1)\n",
    "#        plot_digits(W.T,numcols=5)\n",
    "print 'Visualized weights'\n",
    "plot_digits(W.T,numcols=5)"
   ]
  },
  {
   "cell_type": "markdown",
   "metadata": {},
   "source": [
    "### 1.2.3. Visualize the 8 hardest and 8 easiest digits (10 points)\n",
    "Visualize the 8 digits in the validation set with the highest probability of the true class label under the model.\n",
    "Also plot the 8 digits that were assigned the lowest probability.\n",
    "Ask yourself if these results make sense."
   ]
  },
  {
   "cell_type": "code",
   "execution_count": 16,
   "metadata": {
    "collapsed": false
   },
   "outputs": [
    {
     "name": "stdout",
     "output_type": "stream",
     "text": [
      "The 8 easiest digits:\n"
     ]
    },
    {
     "data": {
      "image/png": "[encoded data removed]",
      "text/plain": [
       "<matplotlib.figure.Figure at 0x10d535410>"
      ]
     },
     "metadata": {},
     "output_type": "display_data"
    },
    {
     "name": "stdout",
     "output_type": "stream",
     "text": [
      "The 8 hardest digits:\n"
     ]
    },
    {
     "data": {
      "image/png": "[encoded data removed]",
      "text/plain": [
       "<matplotlib.figure.Figure at 0x1043a1790>"
      ]
     },
     "metadata": {},
     "output_type": "display_data"
    }
   ],
   "source": [
    "w = numpy.zeros((784,10))\n",
    "b = numpy.zeros((10,1))\n",
    "NV = len(x_valid)\n",
    "for i in range(50):\n",
    "    (w,b) = sgd_iter(x_train,t_train,w,b)\n",
    "logq = x_valid.dot(w) + matlib.repmat(b.T,NV,1)\n",
    "z = np.sum(np.exp(logq),1)\n",
    "zmax = z.max\n",
    "#logp = np.sum(logq - matlib.repmat(np.log(z),10,1).T,0)\n",
    "logqq = np.zeros(NV)\n",
    "for j in range(NV):\n",
    "    logqq[j] = logq[j,t_valid[j]]       \n",
    "logp = logqq - np.log(z)\n",
    "slogp = np.sort(logp)\n",
    "\n",
    "highest_idx = []\n",
    "lowest_idx = []\n",
    "for i in range(8):\n",
    "    lowest_idx.append(list(logp).index(slogp[i]))\n",
    "    highest_idx.append(list(logp).index(slogp[NV-i-1]))\n",
    "high_digits = x_valid[highest_idx]\n",
    "low_digits = x_valid[lowest_idx]\n",
    "print 'The 8 easiest digits:'\n",
    "plot_digits(high_digits,numcols=8)    \n",
    "print 'The 8 hardest digits:'\n",
    "plot_digits(low_digits,numcols=8)"
   ]
  },
  {
   "cell_type": "markdown",
   "metadata": {},
   "source": [
    "# Part 2. Multilayer perceptron\n",
    "\n",
    "\n",
    "You discover that the predictions by the logistic regression classifier are not good enough for your application: the model is too simple. You want to increase the accuracy of your predictions by using a better model. For this purpose, you're going to use a multilayer perceptron (MLP), a simple kind of neural network. The perceptron wil have a single hidden layer $\\bh$ with $L$ elements. The parameters of the model are $\\bV$ (connections between input $\\bx$ and hidden layer $\\bh$), $\\ba$ (the biases/intercepts of $\\bh$), $\\bW$ (connections between $\\bh$ and $\\log q$) and $\\bb$ (the biases/intercepts of $\\log q$.\n",
    "\n",
    "The conditional probability of the class label $j$ is given by:\n",
    "\n",
    "$\\log p(t = j \\;|\\; \\bx, \\bb, \\bW) = \\log q_j - \\log Z$\n",
    "\n",
    "where $q_j$ are again the unnormalized probabilities per class, and $Z = \\sum_j q_j$ is again the probability normalizing factor. Each $q_j$ is computed using:\n",
    "\n",
    "$\\log q_j = \\bw_j^T \\bh + b_j$\n",
    "\n",
    "where $\\bh$ is a $L \\times 1$ vector with the hidden layer activations (of a hidden layer with size $L$), and $\\bw_j$ is the $j$-th column of $\\bW$ (a $L \\times 10$ matrix). Each element of the hidden layer is computed from the input vector $\\bx$ using:\n",
    "\n",
    "$h_j = \\sigma(\\bv_j^T \\bx + a_j)$\n",
    "\n",
    "where $\\bv_j$ is the $j$-th column of $\\bV$ (a $784 \\times L$ matrix), $a_j$ is the $j$-th element of $\\ba$, and $\\sigma(.)$ is the so-called sigmoid activation function, defined by:\n",
    "\n",
    "$\\sigma(x) = \\frac{1}{1 + \\exp(-x)}$\n",
    "\n",
    "Note that this model is almost equal to the multiclass logistic regression model, but with an extra 'hidden layer' $\\bh$. The activations of this hidden layer can be viewed as features computed from the input, where the feature transformation ($\\bV$ and $\\ba$) is learned.\n",
    "\n",
    "## 2.1 Derive gradient equations (20 points)\n",
    "\n",
    "State (shortly) why $\\nabla_{\\bb} \\mathcal{L}^{(n)}$ is equal to the earlier (multiclass logistic regression) case, and why $\\nabla_{\\bw_j} \\mathcal{L}^{(n)}$ is almost equal to the earlier case.\n",
    "\n",
    "Like in multiclass logistic regression, you should use intermediate variables $\\mathbf{\\delta}_j^q$. In addition, you should use intermediate variables $\\mathbf{\\delta}_j^h = \\frac{\\partial \\mathcal{L}^{(n)}}{\\partial h_j}$.\n",
    "\n",
    "Given an input image, roughly the following intermediate variables should be computed:\n",
    "\n",
    "$\n",
    "\\log \\bq \\rightarrow Z \\rightarrow \\log \\bp \\rightarrow \\mathbf{\\delta}^q \\rightarrow \\mathbf{\\delta}^h\n",
    "$\n",
    "\n",
    "where $\\mathbf{\\delta}_j^h = \\frac{\\partial \\mathcal{L}^{(n)}}{\\partial \\bh_j}$.\n",
    "\n",
    "Give the equations for computing $\\mathbf{\\delta}^h$, and for computing the derivatives of $\\mathcal{L}^{(n)}$ w.r.t. $\\bW$, $\\bb$, $\\bV$ and $\\ba$. \n",
    "\n",
    "You can use the convenient fact that $\\frac{\\partial}{\\partial x} \\sigma(x) = \\sigma(x) (1 - \\sigma(x))$.\n",
    "\n",
    "#####Answer: "
   ]
  },
  {
   "cell_type": "markdown",
   "metadata": {},
   "source": [
    "In MLP the hidden leyer works as feature instead of x for the output layer. Also, the output layer of MLP shares the identical eqution with MlR, saying $\\bW$ works as the weight and $\\bb$ works as the bias. So, in the derivaiton, both  $\\nabla_{\\bb} \\mathcal{L}^{(n)}$ and $\\nabla_{\\bw_j} \\mathcal{L}^{(n)}$ have the same equations as the previous case. \n",
    "\n",
    "$\\rightarrow \\nabla_\\bb \\mathcal{L}^{(n)} = \\mathbf{\\delta}^q$\n",
    "\n",
    "\n",
    "$\\nabla_{\\bw_j} \\mathcal{L}^{(n)}$ is also similar, because in $\\log \\bq_j$ we only exchanged $\\bx$ with $\\bh$ which does not depend on $\\bw_j$. Therefore we have $\\frac{\\partial \\log q_j}{\\partial W_{ij}} = \\frac{\\partial \\sum_{i=1}^M W_{ij}h_{i}+b_j}{\\partial W_{ij}} = h_i$ and $\\nabla_{\\bw_j} \\mathcal{L}^{(n)} = \\bh( [j = t^{(n)}](1- \\frac{q_j}{Z}) - [j \\neq t^{(n)}]\\frac{q_j}{Z})$ respectively.\n",
    "\n",
    "\n",
    "$\\delta^q_j = \\frac{\\partial \\mathcal{L}^{(n)}}{\\partial \\log q_j} = \\frac{\\partial\\log p(t = t^{(n)} \\;|\\; \\bx = x^{(n)}, \\bb, \\bW)}{\\partial \\log q_j} = \\frac{\\partial \\log q_{t^{(n)}} - \\log Z^{(n)}}{\\partial \\log q_j} = \\dots = [j = t^{(n)}](1- \\frac{q_j}{Z}) - [j \\neq t^{(n)}]\\frac{q_j}{Z}$\n",
    "\n",
    "\n",
    "$\\delta^h_j = \\frac{\\partial \\mathcal{L}^{(n)}}{\\partial h_j} = \\frac{\\partial\\log p(t = t^{(n)} \\;|\\; \\bx = x^{(n)}, \\bb, \\bW)}{\\partial h_j} = \\frac{\\partial \\log q_{t^{(n)}} - \\log Z^{(n)}}{\\partial h_j} = \\frac{\\partial \\bw_{t^{(n)}}^T\\bh + \\bb_{t^{(n)}} - \\log \\sum_i \\exp\\log \\bq_i}{\\partial h_j} = \\bW_{jt^{(n)}} - \\sum_k\\frac{\\partial \\log \\sum_i \\exp\\log \\bq_i}{\\partial \\log\\bq_k}\\frac{\\partial \\log \\bq_k}{\\partial \\bh_j} = \\bW_{jt^{(n)}} - \\sum_k\\frac{\\exp \\log \\bq_k}{\\sum_i \\exp\\log \\bq_i}\\bW_{jk} = \\bW_{jt^{(n)}} - \\sum_k\\bp_k\\bW_{jk}$\n",
    "\n",
    "$\\frac{\\partial \\mathcal{L}^{(n)}}{\\partial \\bv_j} = \\sum_l \\frac{\\partial \\mathcal{L}^{(n)}}{\\partial \\bh_l}\\frac{\\partial \\bh_l}{\\partial \\bv_j} = \\frac{\\partial \\mathcal{L}^{(n)}}{\\partial \\bh_j}\\frac{\\partial \\bh_j}{\\partial \\bv_j} = \\delta^h_j \\frac{\\partial \\sigma(\\bv_j^T\\bx+a_j)}{\\partial \\bv_j} = \\delta^h_j\\sigma(\\bv_j^T\\bx+a_j)(1-\\sigma(\\bv_j^T\\bx+a_j))\\bx = \\delta^h_j\\bh_j(1-\\bh_j)\\bx$\n",
    "\n",
    "$\\frac{\\partial \\mathcal{L}^{(n)}}{\\partial a_j} = \\sum_l \\frac{\\partial \\mathcal{L}^{(n)}}{\\partial \\bh_l}\\frac{\\partial \\bh_l}{\\partial a_j} = \\frac{\\partial \\mathcal{L}^{(n)}}{\\partial \\bh_j}\\frac{\\partial \\bh_j}{\\partial a_j} = \\delta^h_j \\frac{\\partial \\sigma(\\bv_j^T\\bx+a_j)}{\\partial a_j} = \\delta^h_j\\sigma(\\bv_j^T\\bx+a_j)(1-\\sigma(\\bv_j^T\\bx+a_j)) = \\delta^h_j\\bh_j(1-\\bh_j)$"
   ]
  },
  {
   "cell_type": "markdown",
   "metadata": {},
   "source": [
    "## 2.2 MAP optimization (10 points)\n",
    "\n",
    "You derived equations for finding the _maximum likelihood_ solution of the parameters. Explain, in a few sentences, how you could extend this approach so that it optimizes towards a _maximum a posteriori_ (MAP) solution of the parameters, with a Gaussian prior on the parameters. \n",
    "\n",
    "#####Answer: "
   ]
  },
  {
   "cell_type": "markdown",
   "metadata": {},
   "source": [
    "MAP aims at maximize the posterior   $p(\\bW,\\bb,\\bV,\\ba \\mid \\bt,\\bx) = p(\\bt,\\bx \\mid \\bW,\\bb,\\bV,\\ba)p(\\bW,\\bb,\\bV,\\ba)/C$. Asuming $\\bW,\\bb,\\bV,\\ba$ are mutal independet, this could be done by maximizing the log-posterior: $\\ln p(\\bW,\\bb,\\bV,\\ba \\mid \\bt,\\bx) = \\ln p(\\bt,\\bx \\mid \\bW,\\bb,\\bV,\\ba)+\\ln p(\\bW)+\\ln p(\\bb)+\\ln p(\\bV)+\\ln p(\\ba)-\\ln C$. By acheiving this, we could first compute the derivation with respect to $\\bW,\\bb,\\bV,\\ba$, respectively. As we already computed the derivation of log-likelihood and derivation of log-Gaussian is easy to handle, we could easily compute the derivation of log-posterior. \n",
    "Denote $\\ln p(\\bW,\\bb,\\bV,\\ba \\mid \\bt,\\bx)$ as $\\mathcal Q$.\n",
    "For example with zero mean Gaussian prior: \n",
    "\n",
    "$\\frac{\\partial \\mathcal Q}{\\partial \\bW_k} \\propto \\frac{\\partial (\\mathcal L + p(\\bW_k))}{\\partial \\bW_k} = \\frac{\\partial \\mathcal L}{\\partial \\bW_k} + \\frac{-\\bW_k^T\\Sigma_k^{-1}\\bW_k }{\\bW_k } = \\frac{\\partial \\mathcal L}{\\partial \\bW_k} - \\Sigma_k^{-1}\\bW_k $. \n",
    "\n",
    "Here, priors run as the regularization term.\n",
    "And it is easy to get the similar equations for other three derivations. \n",
    "\n",
    "After computing the derivation, we could maximize the log-posterior by gradient decsent(ascent actually) or other similar methods."
   ]
  },
  {
   "cell_type": "markdown",
   "metadata": {},
   "source": [
    "## 2.3. Implement and train a MLP (15 points)\n",
    "\n",
    "Implement a MLP model with a single hidden layer, and code to train the model."
   ]
  },
  {
   "cell_type": "code",
   "execution_count": 6,
   "metadata": {
    "collapsed": false,
    "scrolled": true
   },
   "outputs": [
    {
     "data": {
      "image/png": "[encoded data removed]",
      "text/plain": [
       "<matplotlib.figure.Figure at 0x10b44d390>"
      ]
     },
     "metadata": {},
     "output_type": "display_data"
    },
    {
     "name": "stdout",
     "output_type": "stream",
     "text": [
      "0.0342\n"
     ]
    }
   ],
   "source": [
    "def sigmoid(x):\n",
    "    return 1.0/(1.0 + np.exp(-x))\n",
    "\n",
    "def MLP_gradient(x,t,w,b,v,a): # w L*10 b 10*1 v 784*L a L*1 \n",
    "    L = len(w)\n",
    "    N,M = w.shape\n",
    "\n",
    "    deltaq = np.zeros((M,1))\n",
    "    deltah = np.zeros((L,1))\n",
    "    \n",
    "    x = np.matrix(x).T\n",
    "    h = sigmoid(v.T.dot(x) + a)\n",
    "    logq = (w.T.dot(h) + b)\n",
    "    q = np.exp(logq)\n",
    "    Z = q.sum()\n",
    "    p = q/Z\n",
    "\n",
    "    for j in range(10):\n",
    "        if( j == t):\n",
    "            deltaq[j] = 1-np.exp(logq[j])/Z\n",
    "        else:\n",
    "            deltaq[j] = -np.exp(logq[j])/Z\n",
    "    \n",
    "    dW = numpy.multiply(deltaq.T,h)\n",
    "    \n",
    "    \n",
    "    pw = w.dot(p)\n",
    "    deltah = w[:,t] - pw\n",
    "    e = np.multiply(h,1-h)\n",
    "    deltaa = np.multiply(e,deltah)   \n",
    "    dV = np.multiply(deltaa.T,x)\n",
    "    return dW, deltaq, dV, deltaa\n",
    "\n",
    "def sgd_iter(x_train1, t_train1, W, b, V, a):\n",
    "    rate = 1e-3\n",
    "    N = len(x_train1)\n",
    "    arr = range(N)\n",
    "    numpy.random.shuffle(arr)\n",
    "    for i in arr: \n",
    "        \n",
    "        dW, db, dV, da = MLP_gradient(x_train1[i], t_train1[i], W, b, V, a)\n",
    "        W = W + rate*dW\n",
    "        b = b + rate*db\n",
    "        V = V + rate*dV\n",
    "        a = a + rate*da\n",
    "    return W, b, V, a\n",
    "\n",
    "def MLP_predict(W,b,V,a,x,t):\n",
    "    N,M = x.shape\n",
    "    l = len(W)\n",
    "    h = sigmoid(x.dot(V) + matlib.repmat(a.T,N,1))\n",
    "    y_prob = h.dot(W) + matlib.repmat(b.T,N,1)\n",
    "    y = y_prob.argmax(1)\n",
    "    err = 0.0\n",
    "    for i in range(len(y)):\n",
    "        if (y[i] != t[i]):\n",
    "            err += 1\n",
    "    erate = err/N\n",
    "    print erate\n",
    "    return y,erate\n",
    "\n",
    "(x_train, t_train), (x_valid, t_valid), (x_test, t_test) = load_mnist()\n",
    "I = 15\n",
    "speedup = 3\n",
    "L = 50\n",
    "W = numpy.matrix(numpy.random.normal(0,1.0/(L*10),(L,10)))\n",
    "b = numpy.zeros((10,1))\n",
    "#V = numpy.random.normal(0,1.0/(784*L),(784,L))\n",
    "V = numpy.zeros((784,L))\n",
    "a = numpy.zeros((L,1))\n",
    "\n",
    "\n",
    "trainprob = []\n",
    "validprob = []\n",
    "\n",
    "for i in range(speedup*I + 1):\n",
    "    (W,b,V,a) = sgd_iter(x_train,t_train,W,b,V,a)\n",
    "#compute the prob\n",
    "    if(i % speedup == 0):\n",
    "        trainprob.append(0)\n",
    "        validprob.append(0)\n",
    "    for k in range(len(x_train)):\n",
    "        x = x_train[k]\n",
    "        t = t_train[k]\n",
    "        N,M = W.shape\n",
    "        x = np.matrix(x).T\n",
    "        h = sigmoid(V.T.dot(x) + a)\n",
    "        logq = (W.T.dot(h) + b)\n",
    "        logZ = logq.max() + np.log(np.sum(numpy.exp(logq-logq.max())))\n",
    "        trainprob[i//speedup] += logq[t,0] - logZ\n",
    "    for k in range(len(x_valid)):\n",
    "        x = x_valid[k]\n",
    "        t = t_valid[k]\n",
    "        N,M = W.shape\n",
    "        x = np.matrix(x).T\n",
    "        h = sigmoid(V.T.dot(x) + a)\n",
    "        logq = (W.T.dot(h) + b)\n",
    "        logZ = logq.max() + np.log(np.sum(numpy.exp(logq-logq.max())))\n",
    "        validprob[i//speedup] += logq[t,0] - logZ\n",
    "iterations = range(speedup*(I+1)+1)[0:speedup*(I+1)+1:speedup]\n",
    "del iterations[0]\n",
    "plt.plot(iterations ,trainprob, 'ro', label = 'train')\n",
    "plt.plot(iterations,validprob, 'bo', label = 'valid')\n",
    "plt.xlabel('iterations/speedup')\n",
    "plt.ylabel('log-probability')\n",
    "#plt.axis([0.5,I+0.5, -200000,0])\n",
    "plt.legend(loc = 'best')\n",
    "plt.show()\n",
    "\n",
    "y ,e = MLP_predict(W,b,V,a,x_valid,t_valid)"
   ]
  },
  {
   "cell_type": "markdown",
   "metadata": {},
   "source": [
    "### 2.3.1. Less than 250 misclassifications on the test set (10 bonus points)\n",
    "\n",
    "You receive an additional 10 bonus points if you manage to train a model with very high accuracy: at most 2.5% misclasified digits on the test set. Note that the test set contains 10000 digits, so you model should misclassify at most 250 digits. This should be achievable with a MLP model with one hidden layer. See results of various models at : `http://yann.lecun.com/exdb/mnist/index.html`. To reach such a low accuracy, you probably need to have a very high $L$ (many hidden units), probably $L > 200$, and apply a strong Gaussian prior on the weights. In this case you are allowed to use the validation set for training.\n",
    "You are allowed to add additional layers, and use convolutional networks, although that is probably not required to reach 2.5% misclassifications."
   ]
  }
 ],
 "metadata": {
  "anaconda-cloud": {},
  "kernelspec": {
   "display_name": "Python [conda env:py27]",
   "language": "python",
   "name": "conda-env-py27-py"
  },
  "language_info": {
   "codemirror_mode": {
    "name": "ipython",
    "version": 2
   },
   "file_extension": ".py",
   "mimetype": "text/x-python",
   "name": "python",
   "nbconvert_exporter": "python",
   "pygments_lexer": "ipython2",
   "version": "2.7.12"
  }
 },
 "nbformat": 4,
 "nbformat_minor": 0
}
